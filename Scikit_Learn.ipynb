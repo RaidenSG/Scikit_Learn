{
 "cells": [
  {
   "cell_type": "markdown",
   "metadata": {},
   "source": [
    "# Scikit Learn\n",
    "\n",
    "- algorithms\n",
    "\n",
    "- preprocessing\n",
    "    - scaling\n",
    "    - feature selection\n",
    "    - feature extraxction\n",
    "    - encoding\n",
    "\n",
    "- metrices\n",
    "\n",
    "- model selection\n",
    "    - train\n",
    "    - cross_validation\n",
    "\n",
    "- pipeline\n",
    "\n",
    "- datasets\n"
   ]
  },
  {
   "cell_type": "markdown",
   "metadata": {},
   "source": [
    "## Sklearn Transformers"
   ]
  },
  {
   "cell_type": "markdown",
   "metadata": {},
   "source": [
    "### Estimators\n",
    "- Object that can learn from data\n",
    "- Has a fit method to train estimators\n",
    "    - Linear_Regresstion\n",
    "    - k_means\n",
    "    - standardscaler\n",
    "- clustering algorithms are only estimators not predictors or transformer"
   ]
  },
  {
   "cell_type": "markdown",
   "metadata": {},
   "source": [
    "## Types\n",
    "### 1. Predictors\n",
    " - After lerning from data predicts for new data\n",
    " - .predict()\n",
    "\n",
    "#### Types\n",
    " - classifiers\n",
    " - regressors\n",
    "\n",
    "\n",
    "### 2. Transformer\n",
    " - Processes or transforms the data\n",
    " - .transform() / fit_transform()"
   ]
  },
  {
   "cell_type": "markdown",
   "metadata": {},
   "source": [
    "## Custom Estimators\n",
    " - Creating a custom estimator in Scikit-Learn lets you design your own model or data processor that works like Scikit-Learn’s built-in tools."
   ]
  }
 ],
 "metadata": {
  "language_info": {
   "name": "python"
  }
 },
 "nbformat": 4,
 "nbformat_minor": 2
}
